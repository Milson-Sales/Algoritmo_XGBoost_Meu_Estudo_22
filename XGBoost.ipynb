{
  "nbformat": 4,
  "nbformat_minor": 0,
  "metadata": {
    "colab": {
      "name": "XGBoost.ipynb",
      "provenance": []
    },
    "kernelspec": {
      "name": "python3",
      "display_name": "Python 3"
    },
    "language_info": {
      "name": "python"
    }
  },
  "cells": [
    {
      "cell_type": "code",
      "metadata": {
        "id": "VurP3BGdHrJ_"
      },
      "source": [
        "# M5A54 -- Ensemble Learning Machine\n",
        "# XGBoosting\n"
      ],
      "execution_count": null,
      "outputs": []
    },
    {
      "cell_type": "code",
      "metadata": {
        "colab": {
          "base_uri": "https://localhost:8080/"
        },
        "id": "MBshkfIkIVg5",
        "outputId": "f47ccea8-fddf-4b2c-eb35-07386be2cec8"
      },
      "source": [
        "!pip install xgboost"
      ],
      "execution_count": 5,
      "outputs": [
        {
          "output_type": "stream",
          "name": "stdout",
          "text": [
            "Requirement already satisfied: xgboost in /usr/local/lib/python3.7/dist-packages (0.90)\n",
            "Requirement already satisfied: scipy in /usr/local/lib/python3.7/dist-packages (from xgboost) (1.4.1)\n",
            "Requirement already satisfied: numpy in /usr/local/lib/python3.7/dist-packages (from xgboost) (1.19.5)\n"
          ]
        }
      ]
    },
    {
      "cell_type": "code",
      "metadata": {
        "colab": {
          "base_uri": "https://localhost:8080/"
        },
        "id": "3QVqcwOmIqh4",
        "outputId": "a79a0611-716b-4cc3-8db4-f10185704b34"
      },
      "source": [
        "# Importação dos Módulos\n",
        "from pandas import read_csv\n",
        "from sklearn.model_selection import train_test_split\n",
        "from sklearn.metrics import accuracy_score\n",
        "from xgboost import XGBClassifier\n",
        "\n",
        "# Carregando os dados\n",
        "arquivo = 'pima-data.csv'\n",
        "colunas =['preg', 'plas', 'ples', 'skin', 'test', 'mass', 'pedi', 'age', 'class']\n",
        "dados = read_csv(arquivo, names = colunas)\n",
        "array = dados.values\n",
        "\n",
        "# Separando o array em componentes de input e output\n",
        "X = array[0:,0:8]\n",
        "Y = array[:,8]\n",
        "\n",
        "# Definindo os tamanhos dos Dados\n",
        "teste_size = 0.1\n",
        "seed = 7\n",
        "\n",
        "# Criando o dataset de treino e de teste\n",
        "X_treino, X_teste, y_treino, y_teste = train_test_split(X, Y, test_size = teste_size, random_state = seed)\n",
        "\n",
        "# Criando o Modelo\n",
        "modelo = XGBClassifier()\n",
        "\n",
        "# Treinando o Modelo\n",
        "modelo.fit(X_treino, y_treino)\n",
        "\n",
        "# Print o Modelo\n",
        "print(modelo)\n",
        "\n",
        "# Fazendo Previsões\n",
        "y_pred = modelo.predict(X_teste)\n",
        "previsoes = [round(value) for value in y_pred]\n",
        "\n",
        "\n",
        "# Avaliando as Previsões\n",
        "accuracy = accuracy_score(y_teste, previsoes)\n",
        "print(\"accuracy : %2f%%\" % (accuracy * 100.0))"
      ],
      "execution_count": 7,
      "outputs": [
        {
          "output_type": "stream",
          "name": "stdout",
          "text": [
            "XGBClassifier(base_score=0.5, booster='gbtree', colsample_bylevel=1,\n",
            "              colsample_bynode=1, colsample_bytree=1, gamma=0,\n",
            "              learning_rate=0.1, max_delta_step=0, max_depth=3,\n",
            "              min_child_weight=1, missing=None, n_estimators=100, n_jobs=1,\n",
            "              nthread=None, objective='binary:logistic', random_state=0,\n",
            "              reg_alpha=0, reg_lambda=1, scale_pos_weight=1, seed=None,\n",
            "              silent=None, subsample=1, verbosity=1)\n",
            "accuracy : 80.519481%\n"
          ]
        }
      ]
    }
  ]
}